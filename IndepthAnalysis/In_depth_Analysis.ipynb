{
 "cells": [
  {
   "cell_type": "markdown",
   "metadata": {},
   "source": [
    "<div class=\"span5 alert alert-info\">\n",
    "<b>\n",
    "<h2>    \n",
    "Predictive Analysis:\n",
    "</h2>    \n",
    "</b>\n",
    "</div>"
   ]
  },
  {
   "cell_type": "code",
   "execution_count": 1,
   "metadata": {},
   "outputs": [],
   "source": [
    "import pandas as pd\n",
    "import numpy as np\n",
    "import matplotlib.pyplot as plt"
   ]
  },
  {
   "cell_type": "code",
   "execution_count": 2,
   "metadata": {},
   "outputs": [
    {
     "data": {
      "text/plain": [
       "Index(['id', 'date_account_created', 'timestamp_first_active',\n",
       "       'date_first_booking', 'gender', 'age_bucket', 'signup_method',\n",
       "       'signup_flow', 'language', 'affiliate_channel', 'affiliate_provider',\n",
       "       'first_affiliate_tracked', 'signup_app', 'first_device_type',\n",
       "       'first_browser', 'month_of_first_booking', 'Others', 'action_active',\n",
       "       'action_ajax_check_dates', 'action_ajax_lwlb_contact',\n",
       "       'action_ajax_photo_widget_form_iframe', 'action_ajax_refresh_subtotal',\n",
       "       'action_ask_question', 'action_authenticate',\n",
       "       'action_calendar_tab_inner2', 'action_campaigns', 'action_click',\n",
       "       'action_collections', 'action_complete_status', 'action_confirm_email',\n",
       "       'action_create', 'action_dashboard', 'action_edit',\n",
       "       'action_edit_verification', 'action_header_userpic', 'action_identity',\n",
       "       'action_impressions', 'action_index', 'action_listings',\n",
       "       'action_lookup', 'action_manage_listing', 'action_notifications',\n",
       "       'action_other_hosting_reviews_first', 'action_personalize',\n",
       "       'action_qt2', 'action_recommendations', 'action_requested',\n",
       "       'action_reviews', 'action_search', 'action_search_results',\n",
       "       'action_show', 'action_show_personalize', 'action_similar_listings',\n",
       "       'action_similar_listings_v2', 'action_social_connections',\n",
       "       'action_track_page_view', 'action_travel_plans_current',\n",
       "       'action_unavailabilities', 'action_update', 'des_lang_AU',\n",
       "       'des_lang_CA', 'des_lang_DE', 'des_lang_ES', 'des_lang_FR',\n",
       "       'des_lang_GB', 'des_lang_IT', 'des_lang_NL', 'des_lang_PT',\n",
       "       'des_lang_US', 'country_destination', 'age_grp_AU', 'age_grp_CA',\n",
       "       'age_grp_DE', 'age_grp_ES', 'age_grp_FR', 'age_grp_GB', 'age_grp_IT',\n",
       "       'age_grp_NL', 'age_grp_PT', 'age_grp_US'],\n",
       "      dtype='object')"
      ]
     },
     "execution_count": 2,
     "metadata": {},
     "output_type": "execute_result"
    }
   ],
   "source": [
    "df_train_join = pd.read_csv(\"../DataFiles/air_bnb_clean_data/air_bnb_reduced_data.csv\")\n",
    "df_train_join.columns"
   ]
  },
  {
   "cell_type": "code",
   "execution_count": 3,
   "metadata": {},
   "outputs": [],
   "source": [
    "#setting plot style\n",
    "plt.style.use('ggplot')"
   ]
  },
  {
   "cell_type": "markdown",
   "metadata": {},
   "source": [
    "<div class=\"span5 alert alert-info\">\n",
    "<b>    \n",
    "Feature Selection\n",
    "</b>    \n",
    "</div>"
   ]
  },
  {
   "cell_type": "markdown",
   "metadata": {},
   "source": [
    "**Feature selection based on Mutual information gain**"
   ]
  },
  {
   "cell_type": "code",
   "execution_count": 4,
   "metadata": {},
   "outputs": [],
   "source": [
    "df_train_join.fillna(9999, inplace=True)"
   ]
  },
  {
   "cell_type": "code",
   "execution_count": 5,
   "metadata": {},
   "outputs": [],
   "source": [
    "from sklearn.model_selection import train_test_split\n",
    "from sklearn.ensemble import RandomForestClassifier\n",
    "from sklearn.metrics import accuracy_score,classification_report,confusion_matrix"
   ]
  },
  {
   "cell_type": "code",
   "execution_count": 6,
   "metadata": {},
   "outputs": [],
   "source": [
    "from sklearn.feature_selection import VarianceThreshold, mutual_info_classif\n",
    "from sklearn.feature_selection import SelectKBest, SelectPercentile"
   ]
  },
  {
   "cell_type": "code",
   "execution_count": 7,
   "metadata": {},
   "outputs": [
    {
     "data": {
      "text/plain": [
       "((213451, 75), (213451,))"
      ]
     },
     "execution_count": 7,
     "metadata": {},
     "output_type": "execute_result"
    }
   ],
   "source": [
    "#dropping redundant columns\n",
    "X = df_train_join.drop(['id','date_account_created','timestamp_first_active','date_first_booking','country_destination'],axis=1)\n",
    "y = df_train_join['country_destination']\n",
    "\n",
    "X.shape, y.shape"
   ]
  },
  {
   "cell_type": "code",
   "execution_count": 8,
   "metadata": {},
   "outputs": [
    {
     "data": {
      "text/plain": [
       "Index(['id', 'date_account_created', 'timestamp_first_active',\n",
       "       'date_first_booking', 'gender', 'age_bucket', 'signup_method',\n",
       "       'signup_flow', 'language', 'affiliate_channel', 'affiliate_provider',\n",
       "       'first_affiliate_tracked', 'signup_app', 'first_device_type',\n",
       "       'first_browser', 'month_of_first_booking', 'Others', 'action_active',\n",
       "       'action_ajax_check_dates', 'action_ajax_lwlb_contact',\n",
       "       'action_ajax_photo_widget_form_iframe', 'action_ajax_refresh_subtotal',\n",
       "       'action_ask_question', 'action_authenticate',\n",
       "       'action_calendar_tab_inner2', 'action_campaigns', 'action_click',\n",
       "       'action_collections', 'action_complete_status', 'action_confirm_email',\n",
       "       'action_create', 'action_dashboard', 'action_edit',\n",
       "       'action_edit_verification', 'action_header_userpic', 'action_identity',\n",
       "       'action_impressions', 'action_index', 'action_listings',\n",
       "       'action_lookup', 'action_manage_listing', 'action_notifications',\n",
       "       'action_other_hosting_reviews_first', 'action_personalize',\n",
       "       'action_qt2', 'action_recommendations', 'action_requested',\n",
       "       'action_reviews', 'action_search', 'action_search_results',\n",
       "       'action_show', 'action_show_personalize', 'action_similar_listings',\n",
       "       'action_similar_listings_v2', 'action_social_connections',\n",
       "       'action_track_page_view', 'action_travel_plans_current',\n",
       "       'action_unavailabilities', 'action_update', 'des_lang_AU',\n",
       "       'des_lang_CA', 'des_lang_DE', 'des_lang_ES', 'des_lang_FR',\n",
       "       'des_lang_GB', 'des_lang_IT', 'des_lang_NL', 'des_lang_PT',\n",
       "       'des_lang_US', 'country_destination', 'age_grp_AU', 'age_grp_CA',\n",
       "       'age_grp_DE', 'age_grp_ES', 'age_grp_FR', 'age_grp_GB', 'age_grp_IT',\n",
       "       'age_grp_NL', 'age_grp_PT', 'age_grp_US'],\n",
       "      dtype='object')"
      ]
     },
     "execution_count": 8,
     "metadata": {},
     "output_type": "execute_result"
    }
   ],
   "source": [
    "df_train_join.columns"
   ]
  },
  {
   "cell_type": "markdown",
   "metadata": {},
   "source": [
    "<div class=\"span5 alert alert-info\">\n",
    "<b>\n",
    "Create training and test sets\n",
    "</b>\n",
    "</div> "
   ]
  },
  {
   "cell_type": "code",
   "execution_count": 9,
   "metadata": {},
   "outputs": [],
   "source": [
    "X_train,X_test,y_train,y_test = train_test_split(X, y, test_size = 0.3, random_state = 0, stratify = y)"
   ]
  },
  {
   "cell_type": "code",
   "execution_count": 10,
   "metadata": {},
   "outputs": [
    {
     "data": {
      "text/plain": [
       "((149415, 75), (64036, 75))"
      ]
     },
     "execution_count": 10,
     "metadata": {},
     "output_type": "execute_result"
    }
   ],
   "source": [
    "X_train.shape, X_test.shape"
   ]
  },
  {
   "cell_type": "markdown",
   "metadata": {},
   "source": [
    "**Remove constant quasi constant**"
   ]
  },
  {
   "cell_type": "code",
   "execution_count": 11,
   "metadata": {},
   "outputs": [],
   "source": [
    "constant_filter = VarianceThreshold(threshold = 0.01)\n",
    "constant_filter.fit(X_train)\n",
    "\n",
    "X_train_filter = constant_filter.transform(X_train)\n",
    "X_test_filter = constant_filter.transform(X_test)"
   ]
  },
  {
   "cell_type": "markdown",
   "metadata": {},
   "source": [
    "**Removing duplicate features**"
   ]
  },
  {
   "cell_type": "code",
   "execution_count": 12,
   "metadata": {},
   "outputs": [],
   "source": [
    "X_train_T = X_train_filter.T\n",
    "X_test_T = X_test_filter.T"
   ]
  },
  {
   "cell_type": "code",
   "execution_count": 13,
   "metadata": {},
   "outputs": [],
   "source": [
    "X_train_T = pd.DataFrame(X_train_T) \n",
    "X_test_T = pd.DataFrame(X_test_T) "
   ]
  },
  {
   "cell_type": "code",
   "execution_count": 14,
   "metadata": {},
   "outputs": [],
   "source": [
    "dupicated_features = X_train_T.duplicated()"
   ]
  },
  {
   "cell_type": "code",
   "execution_count": 15,
   "metadata": {},
   "outputs": [
    {
     "name": "stdout",
     "output_type": "stream",
     "text": [
      "total duplicate features 3\n"
     ]
    }
   ],
   "source": [
    "print(\"total duplicate features\",dupicated_features.sum())"
   ]
  },
  {
   "cell_type": "code",
   "execution_count": 16,
   "metadata": {},
   "outputs": [
    {
     "name": "stdout",
     "output_type": "stream",
     "text": [
      "duplicate features Index(['des_lang_CA', 'des_lang_GB', 'des_lang_US'], dtype='object')\n"
     ]
    }
   ],
   "source": [
    "dup_index = [i for i, val in enumerate(dupicated_features) if val] \n",
    "print('duplicate features',X_train.columns[dup_index])"
   ]
  },
  {
   "cell_type": "code",
   "execution_count": 17,
   "metadata": {},
   "outputs": [],
   "source": [
    "features_to_keep = [not index for index in dupicated_features]"
   ]
  },
  {
   "cell_type": "code",
   "execution_count": 18,
   "metadata": {},
   "outputs": [],
   "source": [
    "X_train_unique = X_train_T[features_to_keep].T\n",
    "X_test_unique = X_test_T[features_to_keep].T"
   ]
  },
  {
   "cell_type": "code",
   "execution_count": 19,
   "metadata": {},
   "outputs": [
    {
     "data": {
      "text/plain": [
       "((149415, 72), (64036, 72))"
      ]
     },
     "execution_count": 19,
     "metadata": {},
     "output_type": "execute_result"
    }
   ],
   "source": [
    "X_train_unique.shape, X_test_unique.shape"
   ]
  },
  {
   "cell_type": "markdown",
   "metadata": {},
   "source": [
    "**Calculating Mutual Information gains**"
   ]
  },
  {
   "cell_type": "code",
   "execution_count": 20,
   "metadata": {},
   "outputs": [],
   "source": [
    "mi = mutual_info_classif(X_train_unique, y_train)"
   ]
  },
  {
   "cell_type": "code",
   "execution_count": 21,
   "metadata": {},
   "outputs": [
    {
     "data": {
      "text/plain": [
       "72"
      ]
     },
     "execution_count": 21,
     "metadata": {},
     "output_type": "execute_result"
    }
   ],
   "source": [
    "len(mi)"
   ]
  },
  {
   "cell_type": "code",
   "execution_count": 22,
   "metadata": {},
   "outputs": [
    {
     "data": {
      "text/plain": [
       "array([0.03108702, 0.04151372, 0.00188853, 0.01222973, 0.01420951,\n",
       "       0.011504  , 0.00761086, 0.00554251, 0.01861024, 0.01120225,\n",
       "       0.0114099 , 0.70484354, 0.01215668, 0.01219977, 0.01321701,\n",
       "       0.01172344, 0.02075212, 0.01678523, 0.01731938, 0.00996722,\n",
       "       0.01644794, 0.01576182, 0.01465728, 0.01746422, 0.02238109,\n",
       "       0.0071604 , 0.01402347, 0.01334311, 0.01720859, 0.01700994,\n",
       "       0.01571615, 0.02055496, 0.01523979, 0.00890334, 0.01790599,\n",
       "       0.016395  , 0.02094251, 0.01531411, 0.01516882, 0.01223119,\n",
       "       0.01719745, 0.01695033, 0.03312919, 0.01758655, 0.01266454,\n",
       "       0.01079923, 0.00882574, 0.01692563, 0.01175   , 0.01619778,\n",
       "       0.01744142, 0.01593668, 0.02615254, 0.01729932, 0.00834292,\n",
       "       0.00194118, 0.0186582 , 0.01752145, 0.0154229 , 0.01664926,\n",
       "       0.01596178, 0.01655287, 0.04206222, 0.03828608, 0.04013558,\n",
       "       0.03774901, 0.03717657, 0.03883804, 0.04309155, 0.03517789,\n",
       "       0.03748384, 0.04002929])"
      ]
     },
     "execution_count": 22,
     "metadata": {},
     "output_type": "execute_result"
    }
   ],
   "source": [
    "mi #Higher the number better the mutual information."
   ]
  },
  {
   "cell_type": "code",
   "execution_count": 23,
   "metadata": {},
   "outputs": [],
   "source": [
    "mi = pd.Series(mi)\n",
    "mi.index = X_train.columns[X_train_unique.columns]"
   ]
  },
  {
   "cell_type": "code",
   "execution_count": 24,
   "metadata": {},
   "outputs": [
    {
     "data": {
      "text/plain": [
       "Index(['gender', 'age_bucket', 'signup_method', 'signup_flow', 'language',\n",
       "       'affiliate_channel', 'affiliate_provider', 'first_affiliate_tracked',\n",
       "       'signup_app', 'first_device_type', 'first_browser',\n",
       "       'month_of_first_booking', 'Others', 'action_active',\n",
       "       'action_ajax_check_dates', 'action_ajax_lwlb_contact',\n",
       "       'action_ajax_photo_widget_form_iframe', 'action_ajax_refresh_subtotal',\n",
       "       'action_ask_question', 'action_authenticate',\n",
       "       'action_calendar_tab_inner2', 'action_campaigns', 'action_click',\n",
       "       'action_collections', 'action_complete_status', 'action_confirm_email',\n",
       "       'action_create', 'action_dashboard', 'action_edit',\n",
       "       'action_edit_verification', 'action_header_userpic', 'action_identity',\n",
       "       'action_impressions', 'action_index', 'action_listings',\n",
       "       'action_lookup', 'action_manage_listing', 'action_notifications',\n",
       "       'action_other_hosting_reviews_first', 'action_personalize',\n",
       "       'action_qt2', 'action_recommendations', 'action_requested',\n",
       "       'action_reviews', 'action_search', 'action_search_results',\n",
       "       'action_show', 'action_show_personalize', 'action_similar_listings',\n",
       "       'action_similar_listings_v2', 'action_social_connections',\n",
       "       'action_track_page_view', 'action_travel_plans_current',\n",
       "       'action_unavailabilities', 'action_update', 'des_lang_AU',\n",
       "       'des_lang_DE', 'des_lang_ES', 'des_lang_FR', 'des_lang_IT',\n",
       "       'des_lang_NL', 'des_lang_PT', 'age_grp_AU', 'age_grp_CA', 'age_grp_DE',\n",
       "       'age_grp_ES', 'age_grp_FR', 'age_grp_GB', 'age_grp_IT', 'age_grp_NL',\n",
       "       'age_grp_PT', 'age_grp_US'],\n",
       "      dtype='object')"
      ]
     },
     "execution_count": 24,
     "metadata": {},
     "output_type": "execute_result"
    }
   ],
   "source": [
    "mi.index"
   ]
  },
  {
   "cell_type": "code",
   "execution_count": 25,
   "metadata": {},
   "outputs": [
    {
     "data": {
      "text/plain": [
       "signup_method              0.001889\n",
       "des_lang_AU                0.001941\n",
       "first_affiliate_tracked    0.005543\n",
       "action_confirm_email       0.007160\n",
       "affiliate_provider         0.007611\n",
       "                             ...   \n",
       "age_grp_DE                 0.040136\n",
       "age_bucket                 0.041514\n",
       "age_grp_AU                 0.042062\n",
       "age_grp_IT                 0.043092\n",
       "month_of_first_booking     0.704844\n",
       "Length: 72, dtype: float64"
      ]
     },
     "execution_count": 25,
     "metadata": {},
     "output_type": "execute_result"
    }
   ],
   "source": [
    "values = mi.sort_values(ascending=True)\n",
    "values"
   ]
  },
  {
   "cell_type": "markdown",
   "metadata": {},
   "source": [
    "**Plotting features with mutual information gains for classification**"
   ]
  },
  {
   "cell_type": "code",
   "execution_count": 26,
   "metadata": {},
   "outputs": [
    {
     "data": {
      "text/plain": [
       "<matplotlib.axes._subplots.AxesSubplot at 0x16a76dcd0>"
      ]
     },
     "execution_count": 26,
     "metadata": {},
     "output_type": "execute_result"
    },
    {
     "data": {
      "image/png": "[encoded data removed]",
      "text/plain": [
       "<Figure size 1152x1152 with 1 Axes>"
      ]
     },
     "metadata": {},
     "output_type": "display_data"
    }
   ],
   "source": [
    "values.plot(kind='barh',figsize=(16,16))"
   ]
  },
  {
   "cell_type": "markdown",
   "metadata": {},
   "source": [
    "**month_of_first_booking has highest mutual information for classification. This could be because for major NDF i.e for users not doing bookings have month_of_first_booking as NaN as seen in our analysis earlier, which makes it high dependent variable and thus high mutual information.**"
   ]
  },
  {
   "cell_type": "markdown",
   "metadata": {},
   "source": [
    "**Selecting the best features, setting a threshold of 40 precentile**"
   ]
  },
  {
   "cell_type": "code",
   "execution_count": 27,
   "metadata": {},
   "outputs": [
    {
     "data": {
      "text/plain": [
       "Int64Index([ 0,  1,  8, 11, 16, 18, 23, 24, 31, 35, 36, 38, 40, 41, 42, 50, 52,\n",
       "            58, 61, 65, 66, 67, 68, 69, 70, 71, 72, 73, 74],\n",
       "           dtype='int64')"
      ]
     },
     "execution_count": 27,
     "metadata": {},
     "output_type": "execute_result"
    }
   ],
   "source": [
    "sel = SelectPercentile(mutual_info_classif,percentile=40).fit(X_train_unique,y_train)\n",
    "X_train_unique.columns[sel.get_support()]"
   ]
  },
  {
   "cell_type": "code",
   "execution_count": 28,
   "metadata": {},
   "outputs": [
    {
     "data": {
      "text/plain": [
       "29"
      ]
     },
     "execution_count": 28,
     "metadata": {},
     "output_type": "execute_result"
    }
   ],
   "source": [
    "len(X_train_unique.columns[sel.get_support()])"
   ]
  },
  {
   "cell_type": "markdown",
   "metadata": {},
   "source": [
    "**Keeping only these features for further analysis**"
   ]
  },
  {
   "cell_type": "code",
   "execution_count": 29,
   "metadata": {},
   "outputs": [
    {
     "data": {
      "text/plain": [
       "((149415, 29), (64036, 29))"
      ]
     },
     "execution_count": 29,
     "metadata": {},
     "output_type": "execute_result"
    }
   ],
   "source": [
    "X_train_mi = sel.transform(X_train_unique)\n",
    "X_test_mi = sel.transform(X_test_unique)\n",
    "\n",
    "X_train_mi.shape,X_test_mi.shape"
   ]
  },
  {
   "cell_type": "markdown",
   "metadata": {},
   "source": [
    "****"
   ]
  },
  {
   "cell_type": "markdown",
   "metadata": {},
   "source": [
    "<div class=\"span5 alert alert-info\">\n",
    "<b>\n",
    "Predictive model and performance\n",
    "</b>\n",
    "</div>"
   ]
  },
  {
   "cell_type": "code",
   "execution_count": 30,
   "metadata": {},
   "outputs": [],
   "source": [
    "X_train = X_train_mi #Renaming\n",
    "X_test = X_test_mi"
   ]
  },
  {
   "cell_type": "markdown",
   "metadata": {},
   "source": [
    "<div class=\"span5 alert alert-info\">\n",
    "<b>\n",
    "RandomForest Classifier\n",
    "</b>\n",
    "</div>"
   ]
  },
  {
   "cell_type": "code",
   "execution_count": 31,
   "metadata": {},
   "outputs": [
    {
     "data": {
      "text/plain": [
       "RandomForestClassifier(bootstrap=True, class_weight=None, criterion='gini',\n",
       "                       max_depth=None, max_features='auto', max_leaf_nodes=None,\n",
       "                       min_impurity_decrease=0.0, min_impurity_split=None,\n",
       "                       min_samples_leaf=1, min_samples_split=2,\n",
       "                       min_weight_fraction_leaf=0.0, n_estimators=100, n_jobs=1,\n",
       "                       oob_score=False, random_state=0, verbose=0,\n",
       "                       warm_start=False)"
      ]
     },
     "execution_count": 31,
     "metadata": {},
     "output_type": "execute_result"
    }
   ],
   "source": [
    "clf = RandomForestClassifier(n_estimators=100,random_state=0,n_jobs=1)\n",
    "clf.fit(X_train,y_train)"
   ]
  },
  {
   "cell_type": "code",
   "execution_count": 32,
   "metadata": {},
   "outputs": [],
   "source": [
    "y_pred = clf.predict(X_test)"
   ]
  },
  {
   "cell_type": "code",
   "execution_count": 33,
   "metadata": {},
   "outputs": [
    {
     "name": "stdout",
     "output_type": "stream",
     "text": [
      "accuracy_score 0.8696514460615904\n"
     ]
    }
   ],
   "source": [
    "print(\"accuracy_score\",accuracy_score(y_test,y_pred))"
   ]
  },
  {
   "cell_type": "code",
   "execution_count": 34,
   "metadata": {},
   "outputs": [
    {
     "name": "stdout",
     "output_type": "stream",
     "text": [
      "              precision    recall  f1-score   support\n",
      "\n",
      "           0       0.00      0.00      0.00       162\n",
      "           1       0.00      0.00      0.00       428\n",
      "           2       0.00      0.00      0.00       318\n",
      "           3       0.02      0.00      0.00       675\n",
      "           4       0.06      0.00      0.01      1507\n",
      "           5       0.02      0.00      0.00       697\n",
      "           6       0.06      0.00      0.01       851\n",
      "           7       1.00      1.00      1.00     37363\n",
      "           8       0.00      0.00      0.00       229\n",
      "           9       0.00      0.00      0.00        65\n",
      "          10       0.70      0.98      0.82     18713\n",
      "          11       0.17      0.02      0.04      3028\n",
      "\n",
      "    accuracy                           0.87     64036\n",
      "   macro avg       0.17      0.17      0.16     64036\n",
      "weighted avg       0.80      0.87      0.82     64036\n",
      "\n"
     ]
    }
   ],
   "source": [
    "print(classification_report(y_test,y_pred))"
   ]
  },
  {
   "cell_type": "code",
   "execution_count": 35,
   "metadata": {},
   "outputs": [],
   "source": [
    "def plotComparison(y_test,pred):\n",
    "    plt.figure(figsize=(18,8))\n",
    "    plt.subplot(1, 2, 1)\n",
    "    cat_counts = y_test.value_counts()\n",
    "    cat_counts.plot.bar(title=\"Test data classification\")\n",
    "    plt.xlabel(\"test destination countries\")\n",
    "    \n",
    "    plt.subplot(1, 2, 2)\n",
    "    cat_counts = pd.Series(pred).value_counts()\n",
    "    cat_counts.plot.bar(title=\"Predicted data classification\")\n",
    "    plt.xlabel(\"predicted destination countries\")"
   ]
  },
  {
   "cell_type": "code",
   "execution_count": 36,
   "metadata": {},
   "outputs": [
    {
     "data": {
      "image/png": "[encoded data removed]",
      "text/plain": [
       "<Figure size 1296x576 with 2 Axes>"
      ]
     },
     "metadata": {},
     "output_type": "display_data"
    }
   ],
   "source": [
    "plotComparison(y_test,y_pred)"
   ]
  },
  {
   "cell_type": "markdown",
   "metadata": {},
   "source": [
    "**From the above plot and with reference to the classification report we see that, class 7(NDF) is very well predicted with precision of 1.**\n",
    "\n",
    "**Class 10(US) has been predicted with a precision of 0.7,this class is a bit overclassified.**\n",
    "\n",
    "**The model is capable of predicting some minor classes like class 11, 4, 6, 3, 5 with relatively lower precision.**\n",
    "\n",
    "**Overall the model gives a test accuracy of 0.869.**"
   ]
  },
  {
   "cell_type": "markdown",
   "metadata": {},
   "source": [
    "<div>\n",
    "<b>    \n",
    "<i>\n",
    "<u>    \n",
    "NOTE:\n",
    "</u>    \n",
    "</i>\n",
    "</b>    \n",
    "</div>"
   ]
  },
  {
   "cell_type": "markdown",
   "metadata": {},
   "source": [
    "**From our the previous analysis we have seen that the dataset is imbalanced with class 7(NDF) and 10(US).** \n",
    "\n",
    "**We are not handling this imbalance as we want our model to learn the bias and try to classify the minor classes taking this into account.**    "
   ]
  },
  {
   "cell_type": "markdown",
   "metadata": {},
   "source": [
    "<div class=\"span5 alert alert-info\">\n",
    "<b>\n",
    "Hyper parameter tuning\n",
    "</b>\n",
    "</div>"
   ]
  },
  {
   "cell_type": "markdown",
   "metadata": {},
   "source": [
    "<div class=\"span5 alert alert-info\">\n",
    "<b>\n",
    "RandomSearchCV\n",
    "</b>\n",
    "</div>"
   ]
  },
  {
   "cell_type": "code",
   "execution_count": 37,
   "metadata": {},
   "outputs": [
    {
     "name": "stdout",
     "output_type": "stream",
     "text": [
      "{'bootstrap': True, 'class_weight': None, 'criterion': 'gini', 'max_depth': None, 'max_features': 'auto', 'max_leaf_nodes': None, 'min_impurity_decrease': 0.0, 'min_impurity_split': None, 'min_samples_leaf': 1, 'min_samples_split': 2, 'min_weight_fraction_leaf': 0.0, 'n_estimators': 100, 'n_jobs': 1, 'oob_score': False, 'random_state': 0, 'verbose': 0, 'warm_start': False}\n"
     ]
    }
   ],
   "source": [
    "print(clf.get_params())"
   ]
  },
  {
   "cell_type": "code",
   "execution_count": 38,
   "metadata": {},
   "outputs": [
    {
     "name": "stdout",
     "output_type": "stream",
     "text": [
      "{'n_estimators': [200, 400, 600, 800, 1000, 1200, 1400, 1600, 1800, 2000], 'max_features': ['auto', 'sqrt'], 'max_depth': [10, 20, 30, 40, 50, 60, 70, 80, 90, 100, 110, None], 'min_samples_split': [2, 5, 10], 'min_samples_leaf': [1, 2, 4], 'bootstrap': [True, False]}\n"
     ]
    }
   ],
   "source": [
    "n_estimators = [int(x) for x in np.linspace(start = 200, stop = 2000, num = 10)]\n",
    "\n",
    "# Number of features to consider at every split\n",
    "max_features = ['auto', 'sqrt']\n",
    "\n",
    "# Maximum number of levels in tree\n",
    "max_depth = [int(x) for x in np.linspace(10, 110, num = 11)]\n",
    "max_depth.append(None)\n",
    "\n",
    "# Minimum number of samples required to split a node\n",
    "min_samples_split = [2, 5, 10]\n",
    "\n",
    "# Minimum number of samples required at each leaf node\n",
    "min_samples_leaf = [1, 2, 4]\n",
    "\n",
    "# Method of selecting samples for training each tree\n",
    "bootstrap = [True, False]\n",
    "\n",
    "# Create the random grid\n",
    "random_grid = {'n_estimators': n_estimators,\n",
    "               'max_features': max_features,\n",
    "               'max_depth': max_depth,\n",
    "               'min_samples_split': min_samples_split,\n",
    "               'min_samples_leaf': min_samples_leaf,\n",
    "               'bootstrap': bootstrap}\n",
    "\n",
    "print(random_grid)"
   ]
  },
  {
   "cell_type": "code",
   "execution_count": 39,
   "metadata": {},
   "outputs": [
    {
     "name": "stdout",
     "output_type": "stream",
     "text": [
      "Fitting 3 folds for each of 10 candidates, totalling 30 fits\n"
     ]
    },
    {
     "name": "stderr",
     "output_type": "stream",
     "text": [
      "[Parallel(n_jobs=-1)]: Using backend LokyBackend with 8 concurrent workers.\n",
      "[Parallel(n_jobs=-1)]: Done  30 out of  30 | elapsed: 19.8min finished\n"
     ]
    },
    {
     "data": {
      "text/plain": [
       "RandomizedSearchCV(cv=3, error_score='raise-deprecating',\n",
       "                   estimator=RandomForestClassifier(bootstrap=True,\n",
       "                                                    class_weight=None,\n",
       "                                                    criterion='gini',\n",
       "                                                    max_depth=None,\n",
       "                                                    max_features='auto',\n",
       "                                                    max_leaf_nodes=None,\n",
       "                                                    min_impurity_decrease=0.0,\n",
       "                                                    min_impurity_split=None,\n",
       "                                                    min_samples_leaf=1,\n",
       "                                                    min_samples_split=2,\n",
       "                                                    min_weight_fraction_leaf=0.0,\n",
       "                                                    n_estimators='warn',\n",
       "                                                    n_jobs=None,\n",
       "                                                    oob_sc...\n",
       "                   param_distributions={'bootstrap': [True, False],\n",
       "                                        'max_depth': [10, 20, 30, 40, 50, 60,\n",
       "                                                      70, 80, 90, 100, 110,\n",
       "                                                      None],\n",
       "                                        'max_features': ['auto', 'sqrt'],\n",
       "                                        'min_samples_leaf': [1, 2, 4],\n",
       "                                        'min_samples_split': [2, 5, 10],\n",
       "                                        'n_estimators': [200, 400, 600, 800,\n",
       "                                                         1000, 1200, 1400, 1600,\n",
       "                                                         1800, 2000]},\n",
       "                   pre_dispatch='2*n_jobs', random_state=42, refit=True,\n",
       "                   return_train_score=False, scoring=None, verbose=2)"
      ]
     },
     "execution_count": 39,
     "metadata": {},
     "output_type": "execute_result"
    }
   ],
   "source": [
    "from sklearn.model_selection import RandomizedSearchCV\n",
    "\n",
    "# Use the random grid to search for best hyperparameters\n",
    "# First create the base model to tune\n",
    "\n",
    "rf = RandomForestClassifier()\n",
    "# Random search of parameters, using 3 fold cross validation, \n",
    "# search across 100 different combinations, and use all available cores\n",
    "\n",
    "rf_random = RandomizedSearchCV(estimator = rf, param_distributions = random_grid, n_iter = 10, cv = 3, verbose=2, random_state=42, n_jobs = -1)\n",
    "\n",
    "# Fit the random search model\n",
    "rf_random.fit(X_train,y_train)"
   ]
  },
  {
   "cell_type": "code",
   "execution_count": 40,
   "metadata": {},
   "outputs": [
    {
     "name": "stdout",
     "output_type": "stream",
     "text": [
      "{'n_estimators': 200, 'min_samples_split': 5, 'min_samples_leaf': 2, 'max_features': 'sqrt', 'max_depth': 10, 'bootstrap': True}\n"
     ]
    }
   ],
   "source": [
    "print(rf_random.best_params_)"
   ]
  },
  {
   "cell_type": "code",
   "execution_count": 41,
   "metadata": {},
   "outputs": [],
   "source": [
    "best_random = rf_random.best_estimator_"
   ]
  },
  {
   "cell_type": "code",
   "execution_count": 42,
   "metadata": {},
   "outputs": [
    {
     "name": "stdout",
     "output_type": "stream",
     "text": [
      "accuracy_score 0.8756949216065963\n"
     ]
    }
   ],
   "source": [
    "best_random.fit(X_train,y_train)\n",
    "y_pred = best_random.predict(X_test)\n",
    "\n",
    "print(\"accuracy_score\",accuracy_score(y_test,y_pred))"
   ]
  },
  {
   "cell_type": "markdown",
   "metadata": {},
   "source": [
    "**After hyperparameter tunning we get a slightly higher test accuracy score of 0.875.**"
   ]
  },
  {
   "cell_type": "markdown",
   "metadata": {},
   "source": [
    "****"
   ]
  },
  {
   "cell_type": "markdown",
   "metadata": {},
   "source": [
    "<div class=\"span5 alert alert-info\">\n",
    "<b>\n",
    "Neural Networks\n",
    "</b>\n",
    "</div>"
   ]
  },
  {
   "cell_type": "code",
   "execution_count": 95,
   "metadata": {},
   "outputs": [],
   "source": [
    "# Import necessary modules\n",
    "import keras\n",
    "from keras.layers import Dense\n",
    "from keras.models import Sequential\n",
    "from keras.utils import to_categorical"
   ]
  },
  {
   "cell_type": "markdown",
   "metadata": {},
   "source": [
    "**Base model using SGD optimiser**"
   ]
  },
  {
   "cell_type": "code",
   "execution_count": 96,
   "metadata": {},
   "outputs": [],
   "source": [
    "# Convert the target to categorical: target\n",
    "target_class = 12 #total class categories to predict\n",
    "\n",
    "#Setting predictors and target\n",
    "target = to_categorical(y_train)\n",
    "predictors = X_train\n",
    "\n",
    "#input nodes based on number of features\n",
    "n_cols = predictors.shape[1]"
   ]
  },
  {
   "cell_type": "code",
   "execution_count": 105,
   "metadata": {},
   "outputs": [
    {
     "name": "stdout",
     "output_type": "stream",
     "text": [
      "Epoch 1/10\n",
      "149415/149415 [==============================] - 10s 69us/step - loss: 2753904.7863 - accuracy: 0.5833\n",
      "Epoch 2/10\n",
      "149415/149415 [==============================] - 10s 67us/step - loss: 1.1734 - accuracy: 0.5835\n",
      "Epoch 3/10\n",
      "149415/149415 [==============================] - 10s 66us/step - loss: 1.1679 - accuracy: 0.5835\n",
      "Epoch 4/10\n",
      "149415/149415 [==============================] - 10s 67us/step - loss: 1.1659 - accuracy: 0.5835\n",
      "Epoch 5/10\n",
      "149415/149415 [==============================] - 10s 67us/step - loss: 1.1650 - accuracy: 0.5835\n",
      "Epoch 6/10\n",
      "149415/149415 [==============================] - 10s 68us/step - loss: 1.1644 - accuracy: 0.5835\n",
      "Epoch 7/10\n",
      "149415/149415 [==============================] - 10s 68us/step - loss: 1.1641 - accuracy: 0.5835\n",
      "Epoch 8/10\n",
      "149415/149415 [==============================] - 10s 69us/step - loss: 1.1638 - accuracy: 0.5835\n",
      "Epoch 9/10\n",
      "149415/149415 [==============================] - 10s 69us/step - loss: 1.1637 - accuracy: 0.5835\n",
      "Epoch 10/10\n",
      "149415/149415 [==============================] - 10s 69us/step - loss: 1.1636 - accuracy: 0.5835\n"
     ]
    },
    {
     "data": {
      "text/plain": [
       "<keras.callbacks.callbacks.History at 0x14f9ecb90>"
      ]
     },
     "execution_count": 105,
     "metadata": {},
     "output_type": "execute_result"
    }
   ],
   "source": [
    "#Set up the model\n",
    "model_bSGD = Sequential() #base model using SGD optimiser\n",
    "\n",
    "# Add the first layer\n",
    "model_bSGD.add(Dense(100, activation='relu', input_shape=(n_cols,)))\n",
    "\n",
    "# Add the output layer\n",
    "model_bSGD.add(Dense(target_class, activation='softmax'))\n",
    "\n",
    "# Compile the model\n",
    "model_bSGD.compile(optimizer='SGD', \n",
    "               loss='categorical_crossentropy', \n",
    "               metrics=['accuracy'])\n",
    "\n",
    "# Fit the model\n",
    "model_bSGD.fit(predictors, target, epochs = 10)"
   ]
  },
  {
   "cell_type": "code",
   "execution_count": 98,
   "metadata": {},
   "outputs": [
    {
     "data": {
      "text/plain": [
       "7    64036\n",
       "dtype: int64"
      ]
     },
     "execution_count": 98,
     "metadata": {},
     "output_type": "execute_result"
    }
   ],
   "source": [
    "#Calculate predictions: predictions\n",
    "predictions = model_bSGD.predict_classes(X_test)\n",
    "\n",
    "pd.Series(predictions).value_counts()#predicted classes and counts"
   ]
  },
  {
   "cell_type": "code",
   "execution_count": 99,
   "metadata": {},
   "outputs": [
    {
     "name": "stdout",
     "output_type": "stream",
     "text": [
      "accuracy_score 0.5834686738709476\n"
     ]
    }
   ],
   "source": [
    "print(\"accuracy_score\",accuracy_score(y_test,predictions))"
   ]
  },
  {
   "cell_type": "code",
   "execution_count": 100,
   "metadata": {},
   "outputs": [
    {
     "data": {
      "image/png": "[encoded data removed]",
      "text/plain": [
       "<Figure size 1296x576 with 2 Axes>"
      ]
     },
     "metadata": {},
     "output_type": "display_data"
    }
   ],
   "source": [
    "plotComparison(y_test,predictions)"
   ]
  },
  {
   "cell_type": "markdown",
   "metadata": {},
   "source": [
    "**From the above plot, we see the model with SGD optimiser predicts just major classes 7(NDF) of all the class with a test accuracy = 0.583**"
   ]
  },
  {
   "cell_type": "markdown",
   "metadata": {},
   "source": [
    "****"
   ]
  },
  {
   "cell_type": "markdown",
   "metadata": {},
   "source": [
    "**Base model using ADAM optimiser**"
   ]
  },
  {
   "cell_type": "code",
   "execution_count": 101,
   "metadata": {},
   "outputs": [
    {
     "name": "stdout",
     "output_type": "stream",
     "text": [
      "Epoch 1/15\n",
      "149415/149415 [==============================] - 13s 86us/step - loss: 134.1509 - accuracy: 0.7925\n",
      "Epoch 2/15\n",
      "149415/149415 [==============================] - 12s 81us/step - loss: 52.3437 - accuracy: 0.7962\n",
      "Epoch 3/15\n",
      "149415/149415 [==============================] - 12s 80us/step - loss: 21.7855 - accuracy: 0.8352\n",
      "Epoch 4/15\n",
      "149415/149415 [==============================] - 12s 80us/step - loss: 7.1079 - accuracy: 0.8739\n",
      "Epoch 5/15\n",
      "149415/149415 [==============================] - 12s 80us/step - loss: 4.0761 - accuracy: 0.8745\n",
      "Epoch 6/15\n",
      "149415/149415 [==============================] - 12s 81us/step - loss: 2.2023 - accuracy: 0.8749\n",
      "Epoch 7/15\n",
      "149415/149415 [==============================] - 12s 81us/step - loss: 1.5789 - accuracy: 0.8749\n",
      "Epoch 8/15\n",
      "149415/149415 [==============================] - 12s 82us/step - loss: 1.0089 - accuracy: 0.8751\n",
      "Epoch 9/15\n",
      "149415/149415 [==============================] - 12s 82us/step - loss: 1.4225 - accuracy: 0.8749\n",
      "Epoch 10/15\n",
      "149415/149415 [==============================] - 12s 83us/step - loss: 0.6576 - accuracy: 0.8753\n",
      "Epoch 11/15\n",
      "149415/149415 [==============================] - 12s 82us/step - loss: 0.5742 - accuracy: 0.8755\n",
      "Epoch 12/15\n",
      "149415/149415 [==============================] - 12s 83us/step - loss: 0.6636 - accuracy: 0.8754\n",
      "Epoch 13/15\n",
      "149415/149415 [==============================] - 13s 85us/step - loss: 0.5067 - accuracy: 0.8754\n",
      "Epoch 14/15\n",
      "149415/149415 [==============================] - 13s 84us/step - loss: 0.5038 - accuracy: 0.8754\n",
      "Epoch 15/15\n",
      "149415/149415 [==============================] - 12s 84us/step - loss: 0.6652 - accuracy: 0.8754\n"
     ]
    },
    {
     "data": {
      "text/plain": [
       "<keras.callbacks.callbacks.History at 0x14e7af5d0>"
      ]
     },
     "execution_count": 101,
     "metadata": {},
     "output_type": "execute_result"
    }
   ],
   "source": [
    "#Set up the model\n",
    "model_bAdam = Sequential() #base model using Adam optimiser\n",
    "\n",
    "# Add the first layer\n",
    "model_bAdam.add(Dense(100, activation='relu', input_shape=(n_cols,)))\n",
    "\n",
    "# Add the output layer\n",
    "model_bAdam.add(Dense(target_class, activation='softmax'))\n",
    "\n",
    "# Compile the model\n",
    "model_bAdam.compile(optimizer='Adam', \n",
    "               loss='categorical_crossentropy', \n",
    "               metrics=['accuracy'])\n",
    "\n",
    "# Fit the model\n",
    "model_bAdam.fit(predictors, target, epochs = 15)"
   ]
  },
  {
   "cell_type": "code",
   "execution_count": 102,
   "metadata": {},
   "outputs": [
    {
     "data": {
      "text/plain": [
       "7     37338\n",
       "10    26697\n",
       "2         1\n",
       "dtype: int64"
      ]
     },
     "execution_count": 102,
     "metadata": {},
     "output_type": "execute_result"
    }
   ],
   "source": [
    "#Calculate predictions: predictions\n",
    "predictions = model_bAdam.predict_classes(X_test)\n",
    "\n",
    "pd.Series(predictions).value_counts()"
   ]
  },
  {
   "cell_type": "code",
   "execution_count": 103,
   "metadata": {},
   "outputs": [
    {
     "name": "stdout",
     "output_type": "stream",
     "text": [
      "accuracy_score 0.8752420513461178\n"
     ]
    }
   ],
   "source": [
    "print(\"accuracy_score\",accuracy_score(y_test,predictions))"
   ]
  },
  {
   "cell_type": "code",
   "execution_count": 104,
   "metadata": {},
   "outputs": [
    {
     "data": {
      "image/png": "[encoded data removed]",
      "text/plain": [
       "<Figure size 1296x576 with 2 Axes>"
      ]
     },
     "metadata": {},
     "output_type": "display_data"
    }
   ],
   "source": [
    "plotComparison(y_test,predictions)"
   ]
  },
  {
   "cell_type": "markdown",
   "metadata": {},
   "source": [
    "**From the above plot see the model with Adam optimiser predicts just two major class 7(NDF), 10(US) and some rare classes with a test accuracy = 0.875**"
   ]
  },
  {
   "cell_type": "markdown",
   "metadata": {},
   "source": [
    "**Parameter optimisation on Learning rate, epoch, nodes, layers, EarlyStopping, ModelCheckpoint and Cross validation**"
   ]
  },
  {
   "cell_type": "code",
   "execution_count": 89,
   "metadata": {},
   "outputs": [
    {
     "name": "stdout",
     "output_type": "stream",
     "text": [
      "Train on 104590 samples, validate on 44825 samples\n",
      "Epoch 1/30\n",
      "104590/104590 [==============================] - 14s 133us/step - loss: 94.9261 - accuracy: 0.7806 - val_loss: 31.8655 - val_accuracy: 0.8493\n",
      "\n",
      "Epoch 00001: val_accuracy improved from -inf to 0.84928, saving model to weights.best.hdf5\n",
      "Epoch 2/30\n",
      "104590/104590 [==============================] - 13s 125us/step - loss: 29.0498 - accuracy: 0.7953 - val_loss: 26.5641 - val_accuracy: 0.8390\n",
      "\n",
      "Epoch 00002: val_accuracy did not improve from 0.84928\n",
      "Epoch 3/30\n",
      "104590/104590 [==============================] - 14s 133us/step - loss: 23.4872 - accuracy: 0.7969 - val_loss: 27.1536 - val_accuracy: 0.6411\n",
      "\n",
      "Epoch 00003: val_accuracy did not improve from 0.84928\n",
      "Epoch 4/30\n",
      "104590/104590 [==============================] - 13s 127us/step - loss: 20.0196 - accuracy: 0.7958 - val_loss: 16.9389 - val_accuracy: 0.8580\n",
      "\n",
      "Epoch 00004: val_accuracy improved from 0.84928 to 0.85800, saving model to weights.best.hdf5\n",
      "Epoch 5/30\n",
      "104590/104590 [==============================] - 14s 135us/step - loss: 18.0834 - accuracy: 0.7971 - val_loss: 20.7869 - val_accuracy: 0.6815\n",
      "\n",
      "Epoch 00005: val_accuracy did not improve from 0.85800\n",
      "Epoch 6/30\n",
      "104590/104590 [==============================] - 12s 118us/step - loss: 15.7290 - accuracy: 0.7982 - val_loss: 13.9067 - val_accuracy: 0.6245\n",
      "\n",
      "Epoch 00006: val_accuracy did not improve from 0.85800\n",
      "Epoch 7/30\n",
      "104590/104590 [==============================] - 12s 119us/step - loss: 16.5508 - accuracy: 0.7979 - val_loss: 15.6895 - val_accuracy: 0.8377\n",
      "\n",
      "Epoch 00007: val_accuracy did not improve from 0.85800\n",
      "Epoch 8/30\n",
      "104590/104590 [==============================] - 12s 116us/step - loss: 14.4525 - accuracy: 0.7983 - val_loss: 12.6273 - val_accuracy: 0.8534\n",
      "\n",
      "Epoch 00008: val_accuracy did not improve from 0.85800\n",
      "Epoch 9/30\n",
      "104590/104590 [==============================] - 12s 118us/step - loss: 13.4305 - accuracy: 0.7987 - val_loss: 12.6960 - val_accuracy: 0.8526\n",
      "\n",
      "Epoch 00009: val_accuracy did not improve from 0.85800\n",
      "Epoch 10/30\n",
      "104590/104590 [==============================] - 13s 122us/step - loss: 12.0629 - accuracy: 0.7980 - val_loss: 16.0529 - val_accuracy: 0.8702\n",
      "\n",
      "Epoch 00010: val_accuracy improved from 0.85800 to 0.87018, saving model to weights.best.hdf5\n"
     ]
    },
    {
     "data": {
      "text/plain": [
       "<keras.callbacks.callbacks.History at 0x13849af10>"
      ]
     },
     "execution_count": 89,
     "metadata": {},
     "output_type": "execute_result"
    }
   ],
   "source": [
    "# Import EarlyStopping\n",
    "from keras.callbacks import EarlyStopping\n",
    "from keras.optimizers import Adam\n",
    "from keras.callbacks import ModelCheckpoint\n",
    "\n",
    "early_stopping_monitor = EarlyStopping(patience=2)\n",
    "\n",
    "my_opt = Adam(learning_rate=0.0001)\n",
    "\n",
    "model_ = Sequential()\n",
    "\n",
    "model_.add(Dense(140, activation='relu', input_shape=(n_cols,)))\n",
    "model_.add(Dense(100, activation='relu'))\n",
    "\n",
    "model_.add(Dense(target_class, activation='softmax'))\n",
    "\n",
    "model_.compile(optimizer = my_opt, loss='categorical_crossentropy',metrics=['accuracy'])\n",
    "\n",
    "\n",
    "# checkpoint for best wieights\n",
    "filepath=\"weights.best.hdf5\"\n",
    "checkpoint = ModelCheckpoint(filepath, monitor='val_accuracy', verbose=1, save_best_only=True, mode='max')\n",
    "callbacks_list = [checkpoint,early_stopping_monitor]\n",
    "\n",
    "\n",
    "model_.fit(predictors, target, epochs=30, validation_split=0.3,callbacks=callbacks_list)"
   ]
  },
  {
   "cell_type": "code",
   "execution_count": 90,
   "metadata": {},
   "outputs": [],
   "source": [
    "#loading weights in the model and compile\n",
    "model_.load_weights(\"weights.best.hdf5\")\n",
    "model_.compile(optimizer = my_opt, loss='categorical_crossentropy',metrics=['accuracy'])"
   ]
  },
  {
   "cell_type": "code",
   "execution_count": 91,
   "metadata": {},
   "outputs": [
    {
     "data": {
      "text/plain": [
       "7     37349\n",
       "10    25975\n",
       "4       148\n",
       "11      140\n",
       "6       109\n",
       "2        83\n",
       "1        69\n",
       "5        47\n",
       "3        47\n",
       "8        44\n",
       "9        15\n",
       "0        10\n",
       "dtype: int64"
      ]
     },
     "execution_count": 91,
     "metadata": {},
     "output_type": "execute_result"
    }
   ],
   "source": [
    "#Calculate predictions: predictions\n",
    "predictions = model_.predict_classes(X_test) #predicting classes\n",
    "pd.Series(predictions).value_counts()"
   ]
  },
  {
   "cell_type": "code",
   "execution_count": 92,
   "metadata": {},
   "outputs": [
    {
     "name": "stdout",
     "output_type": "stream",
     "text": [
      "accuracy_score 0.8681366731213692\n"
     ]
    }
   ],
   "source": [
    "print(\"accuracy_score\",accuracy_score(y_test,predictions))"
   ]
  },
  {
   "cell_type": "code",
   "execution_count": 93,
   "metadata": {},
   "outputs": [
    {
     "name": "stdout",
     "output_type": "stream",
     "text": [
      "              precision    recall  f1-score   support\n",
      "\n",
      "           0       0.00      0.00      0.00       162\n",
      "           1       0.00      0.00      0.00       428\n",
      "           2       0.00      0.00      0.00       318\n",
      "           3       0.02      0.00      0.00       675\n",
      "           4       0.05      0.01      0.01      1507\n",
      "           5       0.00      0.00      0.00       697\n",
      "           6       0.05      0.01      0.01       851\n",
      "           7       1.00      1.00      1.00     37363\n",
      "           8       0.02      0.00      0.01       229\n",
      "           9       0.00      0.00      0.00        65\n",
      "          10       0.70      0.97      0.82     18713\n",
      "          11       0.14      0.01      0.01      3028\n",
      "\n",
      "    accuracy                           0.87     64036\n",
      "   macro avg       0.17      0.17      0.15     64036\n",
      "weighted avg       0.80      0.87      0.82     64036\n",
      "\n"
     ]
    }
   ],
   "source": [
    "print(classification_report(y_test,predictions))"
   ]
  },
  {
   "cell_type": "code",
   "execution_count": 94,
   "metadata": {},
   "outputs": [
    {
     "data": {
      "image/png": "[encoded data removed]",
      "text/plain": [
       "<Figure size 1296x576 with 2 Axes>"
      ]
     },
     "metadata": {},
     "output_type": "display_data"
    }
   ],
   "source": [
    "plotComparison(y_test,predictions)"
   ]
  },
  {
   "cell_type": "markdown",
   "metadata": {},
   "source": [
    "**From the above plot see the model with Adam optimiser and parameter tuning predicts the major class 7(NDF) with precision of 1.**\n",
    "\n",
    "**Class 10(US) has been predicted with a precision of 0.70, this class is a bit overclassified.**\n",
    "\n",
    "**The model is capable of predicting some minor classes like class 1,2, 4, 5, 6, 8 and 11 with relatively lower precision.**\n",
    "\n",
    "**Overall the model gives a validation accuracy of 0.868.**"
   ]
  },
  {
   "cell_type": "markdown",
   "metadata": {},
   "source": [
    "<div class=\"span5 alert alert-info\">\n",
    "<b>\n",
    "Insights from model analysis:\n",
    "</b>\n",
    "</div>"
   ]
  },
  {
   "cell_type": "markdown",
   "metadata": {},
   "source": [
    "**1. month_of_first_booking is the most important feature having a high mutual information value.**"
   ]
  },
  {
   "cell_type": "markdown",
   "metadata": {},
   "source": [
    "**2. Randomforest Classifier gives a validation accuracy score of 0.875 after hyperparameter tuning, predicting mostly the major classes and some rare classes.**"
   ]
  },
  {
   "cell_type": "markdown",
   "metadata": {},
   "source": [
    "**3. Neural network Classifier with Adam optimiser and parameter tuning predicts some of the rare classes with validation accuracy of 0.868.**"
   ]
  },
  {
   "cell_type": "code",
   "execution_count": null,
   "metadata": {},
   "outputs": [],
   "source": []
  }
 ],
 "metadata": {
  "kernelspec": {
   "display_name": "Python 3",
   "language": "python",
   "name": "python3"
  },
  "language_info": {
   "codemirror_mode": {
    "name": "ipython",
    "version": 3
   },
   "file_extension": ".py",
   "mimetype": "text/x-python",
   "name": "python",
   "nbconvert_exporter": "python",
   "pygments_lexer": "ipython3",
   "version": "3.7.4"
  }
 },
 "nbformat": 4,
 "nbformat_minor": 2
}
